{
 "cells": [
  {
   "cell_type": "code",
   "execution_count": 1,
   "metadata": {},
   "outputs": [],
   "source": [
    "import sys\n",
    "import os\n",
    "project_root = os.path.abspath(os.path.join(os.getcwd(), \"..\"))\n",
    "if project_root not in sys.path:\n",
    "    sys.path.insert(0, project_root)"
   ]
  },
  {
   "cell_type": "code",
   "execution_count": 2,
   "metadata": {},
   "outputs": [
    {
     "name": "stdout",
     "output_type": "stream",
     "text": [
      "YF.download() has changed argument auto_adjust default to True\n"
     ]
    }
   ],
   "source": [
    "from src.data.compute_zscores import compute_fundamental_zscores\n",
    "from src.data.load_data import load_all_fundamentals, get_all_returns_fundamental, adapt_benchmark\n",
    "from signals.fundamental.dataset_features import plot_analyse_alpha_target,create_fundamental_dataset, train_ridge_on_fundamental_alpha\n",
    "from signals.fundamental.backtest_strategies import plot_long_short_quantile_strategy, backtest_long_short_neutral\n",
    "from src.evaluation.strategy_indicators import evaluate_long_short_results\n",
    "dfs = load_all_fundamentals()\n",
    "df_z = compute_fundamental_zscores(dfs)\n",
    "df_returns = get_all_returns_fundamental(df_z)"
   ]
  },
  {
   "cell_type": "code",
   "execution_count": 3,
   "metadata": {},
   "outputs": [
    {
     "data": {
      "text/html": [
       "<div>\n",
       "<style scoped>\n",
       "    .dataframe tbody tr th:only-of-type {\n",
       "        vertical-align: middle;\n",
       "    }\n",
       "\n",
       "    .dataframe tbody tr th {\n",
       "        vertical-align: top;\n",
       "    }\n",
       "\n",
       "    .dataframe thead th {\n",
       "        text-align: right;\n",
       "    }\n",
       "</style>\n",
       "<table border=\"1\" class=\"dataframe\">\n",
       "  <thead>\n",
       "    <tr style=\"text-align: right;\">\n",
       "      <th></th>\n",
       "      <th>date</th>\n",
       "      <th>ticker</th>\n",
       "      <th>FCF_Yield</th>\n",
       "      <th>ROIC</th>\n",
       "      <th>Gearing</th>\n",
       "      <th>Revenue_Growth_YOY</th>\n",
       "      <th>target</th>\n",
       "    </tr>\n",
       "  </thead>\n",
       "  <tbody>\n",
       "    <tr>\n",
       "      <th>0</th>\n",
       "      <td>2021-12-31</td>\n",
       "      <td>AIR.PA</td>\n",
       "      <td>0.127148</td>\n",
       "      <td>-0.068487</td>\n",
       "      <td>-0.508354</td>\n",
       "      <td>NaN</td>\n",
       "      <td>-0.138048</td>\n",
       "    </tr>\n",
       "    <tr>\n",
       "      <th>1</th>\n",
       "      <td>2022-12-31</td>\n",
       "      <td>AIR.PA</td>\n",
       "      <td>0.076436</td>\n",
       "      <td>0.475111</td>\n",
       "      <td>-0.555737</td>\n",
       "      <td>0.148230</td>\n",
       "      <td>-0.051871</td>\n",
       "    </tr>\n",
       "    <tr>\n",
       "      <th>2</th>\n",
       "      <td>2023-12-31</td>\n",
       "      <td>AIR.PA</td>\n",
       "      <td>0.064542</td>\n",
       "      <td>0.154229</td>\n",
       "      <td>-0.610542</td>\n",
       "      <td>0.068026</td>\n",
       "      <td>0.040364</td>\n",
       "    </tr>\n",
       "    <tr>\n",
       "      <th>3</th>\n",
       "      <td>2024-03-31</td>\n",
       "      <td>AIR.PA</td>\n",
       "      <td>0.119783</td>\n",
       "      <td>0.061301</td>\n",
       "      <td>-0.538770</td>\n",
       "      <td>NaN</td>\n",
       "      <td>-0.242260</td>\n",
       "    </tr>\n",
       "    <tr>\n",
       "      <th>4</th>\n",
       "      <td>2024-06-30</td>\n",
       "      <td>AIR.PA</td>\n",
       "      <td>0.409463</td>\n",
       "      <td>-0.398473</td>\n",
       "      <td>-0.455341</td>\n",
       "      <td>NaN</td>\n",
       "      <td>-0.080132</td>\n",
       "    </tr>\n",
       "    <tr>\n",
       "      <th>5</th>\n",
       "      <td>2024-09-30</td>\n",
       "      <td>AIR.PA</td>\n",
       "      <td>-0.194253</td>\n",
       "      <td>0.278698</td>\n",
       "      <td>-0.502764</td>\n",
       "      <td>NaN</td>\n",
       "      <td>0.138835</td>\n",
       "    </tr>\n",
       "    <tr>\n",
       "      <th>6</th>\n",
       "      <td>2024-12-31</td>\n",
       "      <td>AIR.PA</td>\n",
       "      <td>0.276516</td>\n",
       "      <td>-0.100859</td>\n",
       "      <td>-0.426841</td>\n",
       "      <td>-0.500589</td>\n",
       "      <td>-0.046709</td>\n",
       "    </tr>\n",
       "    <tr>\n",
       "      <th>7</th>\n",
       "      <td>2021-12-31</td>\n",
       "      <td>SAF.PA</td>\n",
       "      <td>-0.031231</td>\n",
       "      <td>-0.514050</td>\n",
       "      <td>-0.522737</td>\n",
       "      <td>NaN</td>\n",
       "      <td>-0.048815</td>\n",
       "    </tr>\n",
       "    <tr>\n",
       "      <th>8</th>\n",
       "      <td>2022-12-31</td>\n",
       "      <td>SAF.PA</td>\n",
       "      <td>-0.054463</td>\n",
       "      <td>-1.767137</td>\n",
       "      <td>-0.473522</td>\n",
       "      <td>1.921703</td>\n",
       "      <td>0.048350</td>\n",
       "    </tr>\n",
       "    <tr>\n",
       "      <th>9</th>\n",
       "      <td>2023-12-31</td>\n",
       "      <td>SAF.PA</td>\n",
       "      <td>0.125651</td>\n",
       "      <td>1.566506</td>\n",
       "      <td>-0.558391</td>\n",
       "      <td>1.468916</td>\n",
       "      <td>0.069523</td>\n",
       "    </tr>\n",
       "  </tbody>\n",
       "</table>\n",
       "</div>"
      ],
      "text/plain": [
       "        date  ticker  FCF_Yield      ROIC   Gearing  Revenue_Growth_YOY  \\\n",
       "0 2021-12-31  AIR.PA   0.127148 -0.068487 -0.508354                 NaN   \n",
       "1 2022-12-31  AIR.PA   0.076436  0.475111 -0.555737            0.148230   \n",
       "2 2023-12-31  AIR.PA   0.064542  0.154229 -0.610542            0.068026   \n",
       "3 2024-03-31  AIR.PA   0.119783  0.061301 -0.538770                 NaN   \n",
       "4 2024-06-30  AIR.PA   0.409463 -0.398473 -0.455341                 NaN   \n",
       "5 2024-09-30  AIR.PA  -0.194253  0.278698 -0.502764                 NaN   \n",
       "6 2024-12-31  AIR.PA   0.276516 -0.100859 -0.426841           -0.500589   \n",
       "7 2021-12-31  SAF.PA  -0.031231 -0.514050 -0.522737                 NaN   \n",
       "8 2022-12-31  SAF.PA  -0.054463 -1.767137 -0.473522            1.921703   \n",
       "9 2023-12-31  SAF.PA   0.125651  1.566506 -0.558391            1.468916   \n",
       "\n",
       "     target  \n",
       "0 -0.138048  \n",
       "1 -0.051871  \n",
       "2  0.040364  \n",
       "3 -0.242260  \n",
       "4 -0.080132  \n",
       "5  0.138835  \n",
       "6 -0.046709  \n",
       "7 -0.048815  \n",
       "8  0.048350  \n",
       "9  0.069523  "
      ]
     },
     "execution_count": 3,
     "metadata": {},
     "output_type": "execute_result"
    }
   ],
   "source": [
    "dataset = create_fundamental_dataset(df_z, df_returns)\n",
    "dataset.head(10)"
   ]
  },
  {
   "cell_type": "code",
   "execution_count": 4,
   "metadata": {},
   "outputs": [
    {
     "data": {
      "text/html": [
       "<div>\n",
       "<style scoped>\n",
       "    .dataframe tbody tr th:only-of-type {\n",
       "        vertical-align: middle;\n",
       "    }\n",
       "\n",
       "    .dataframe tbody tr th {\n",
       "        vertical-align: top;\n",
       "    }\n",
       "\n",
       "    .dataframe thead th {\n",
       "        text-align: right;\n",
       "    }\n",
       "</style>\n",
       "<table border=\"1\" class=\"dataframe\">\n",
       "  <thead>\n",
       "    <tr style=\"text-align: right;\">\n",
       "      <th></th>\n",
       "      <th>date</th>\n",
       "      <th>ticker</th>\n",
       "      <th>FCF_Yield</th>\n",
       "      <th>ROIC</th>\n",
       "      <th>Gearing</th>\n",
       "      <th>Revenue_Growth_YOY</th>\n",
       "      <th>target</th>\n",
       "      <th>alpha</th>\n",
       "    </tr>\n",
       "  </thead>\n",
       "  <tbody>\n",
       "    <tr>\n",
       "      <th>1</th>\n",
       "      <td>2022-12-31</td>\n",
       "      <td>AIR.PA</td>\n",
       "      <td>0.076436</td>\n",
       "      <td>0.475111</td>\n",
       "      <td>-0.555737</td>\n",
       "      <td>0.148230</td>\n",
       "      <td>-0.051871</td>\n",
       "      <td>0.064150</td>\n",
       "    </tr>\n",
       "    <tr>\n",
       "      <th>2</th>\n",
       "      <td>2023-12-31</td>\n",
       "      <td>AIR.PA</td>\n",
       "      <td>0.064542</td>\n",
       "      <td>0.154229</td>\n",
       "      <td>-0.610542</td>\n",
       "      <td>0.068026</td>\n",
       "      <td>0.040364</td>\n",
       "      <td>0.088069</td>\n",
       "    </tr>\n",
       "    <tr>\n",
       "      <th>6</th>\n",
       "      <td>2024-12-31</td>\n",
       "      <td>AIR.PA</td>\n",
       "      <td>0.276516</td>\n",
       "      <td>-0.100859</td>\n",
       "      <td>-0.426841</td>\n",
       "      <td>-0.500589</td>\n",
       "      <td>-0.046709</td>\n",
       "      <td>0.061231</td>\n",
       "    </tr>\n",
       "    <tr>\n",
       "      <th>8</th>\n",
       "      <td>2022-12-31</td>\n",
       "      <td>SAF.PA</td>\n",
       "      <td>-0.054463</td>\n",
       "      <td>-1.767137</td>\n",
       "      <td>-0.473522</td>\n",
       "      <td>1.921703</td>\n",
       "      <td>0.048350</td>\n",
       "      <td>0.240030</td>\n",
       "    </tr>\n",
       "    <tr>\n",
       "      <th>9</th>\n",
       "      <td>2023-12-31</td>\n",
       "      <td>SAF.PA</td>\n",
       "      <td>0.125651</td>\n",
       "      <td>1.566506</td>\n",
       "      <td>-0.558391</td>\n",
       "      <td>1.468916</td>\n",
       "      <td>0.069523</td>\n",
       "      <td>0.047935</td>\n",
       "    </tr>\n",
       "  </tbody>\n",
       "</table>\n",
       "</div>"
      ],
      "text/plain": [
       "        date  ticker  FCF_Yield      ROIC   Gearing  Revenue_Growth_YOY  \\\n",
       "1 2022-12-31  AIR.PA   0.076436  0.475111 -0.555737            0.148230   \n",
       "2 2023-12-31  AIR.PA   0.064542  0.154229 -0.610542            0.068026   \n",
       "6 2024-12-31  AIR.PA   0.276516 -0.100859 -0.426841           -0.500589   \n",
       "8 2022-12-31  SAF.PA  -0.054463 -1.767137 -0.473522            1.921703   \n",
       "9 2023-12-31  SAF.PA   0.125651  1.566506 -0.558391            1.468916   \n",
       "\n",
       "     target     alpha  \n",
       "1 -0.051871  0.064150  \n",
       "2  0.040364  0.088069  \n",
       "6 -0.046709  0.061231  \n",
       "8  0.048350  0.240030  \n",
       "9  0.069523  0.047935  "
      ]
     },
     "execution_count": 4,
     "metadata": {},
     "output_type": "execute_result"
    }
   ],
   "source": [
    "weights, model, scaler, df_clean = train_ridge_on_fundamental_alpha(dataset)\n",
    "df_clean.head(5)"
   ]
  },
  {
   "cell_type": "code",
   "execution_count": 5,
   "metadata": {},
   "outputs": [
    {
     "name": "stdout",
     "output_type": "stream",
     "text": [
      "Linear regression:\n",
      "  slope               = 1.2226\n",
      "  intercept           = -0.0010\n",
      "  R² (from linregress)= 0.2541\n",
      "  Corr (Pearson)      = 0.5041\n",
      "  p-value regression  = 0.0003547\n",
      "  p-value Pearson     = 0.0003547\n",
      "  std error of slope  = 0.3158\n"
     ]
    },
    {
     "data": {
      "image/png": "[encoded data removed]",
      "text/plain": [
       "<Figure size 800x600 with 1 Axes>"
      ]
     },
     "metadata": {},
     "output_type": "display_data"
    },
    {
     "data": {
      "text/plain": [
       "{'slope': np.float64(1.2226412182345614),\n",
       " 'intercept': np.float64(-0.001015751259097997),\n",
       " 'r_squared': np.float64(0.2540993688228003),\n",
       " 'correlation': np.float64(0.504082700380404),\n",
       " 'p_value_linreg': np.float64(0.0003546785223128798),\n",
       " 'p_value_corr': np.float64(0.0003546785223128806),\n",
       " 'std_error': np.float64(0.31579946416289595)}"
      ]
     },
     "execution_count": 5,
     "metadata": {},
     "output_type": "execute_result"
    }
   ],
   "source": [
    "plot_analyse_alpha_target(df_clean)"
   ]
  },
  {
   "cell_type": "code",
   "execution_count": 6,
   "metadata": {},
   "outputs": [
    {
     "data": {
      "image/png": "[encoded data removed]",
      "text/plain": [
       "<Figure size 640x480 with 1 Axes>"
      ]
     },
     "metadata": {},
     "output_type": "display_data"
    },
    {
     "name": "stdout",
     "output_type": "stream",
     "text": [
      "        date  long_return  short_return  long_count  short_count  net_return\n",
      "0 2022-12-31     0.382727     -0.271525           5            5    0.654252\n",
      "1 2023-12-31     0.147765     -0.179943           5            5    0.327708\n",
      "2 2024-12-31     0.281232     -0.103217           3            3    0.384448\n"
     ]
    }
   ],
   "source": [
    "perf_df = backtest_long_short_neutral(df_clean)\n",
    "plot_long_short_quantile_strategy(perf_df)"
   ]
  },
  {
   "cell_type": "code",
   "execution_count": null,
   "metadata": {},
   "outputs": [],
   "source": [
    "benchmark_df = adapt_benchmark(perf_df)"
   ]
  },
  {
   "cell_type": "code",
   "execution_count": 10,
   "metadata": {},
   "outputs": [
    {
     "data": {
      "text/html": [
       "<div>\n",
       "<style scoped>\n",
       "    .dataframe tbody tr th:only-of-type {\n",
       "        vertical-align: middle;\n",
       "    }\n",
       "\n",
       "    .dataframe tbody tr th {\n",
       "        vertical-align: top;\n",
       "    }\n",
       "\n",
       "    .dataframe thead th {\n",
       "        text-align: right;\n",
       "    }\n",
       "</style>\n",
       "<table border=\"1\" class=\"dataframe\">\n",
       "  <thead>\n",
       "    <tr style=\"text-align: right;\">\n",
       "      <th></th>\n",
       "      <th>date</th>\n",
       "      <th>benchmark_return</th>\n",
       "    </tr>\n",
       "  </thead>\n",
       "  <tbody>\n",
       "    <tr>\n",
       "      <th>0</th>\n",
       "      <td>2022-12-31</td>\n",
       "      <td>0.202754</td>\n",
       "    </tr>\n",
       "    <tr>\n",
       "      <th>1</th>\n",
       "      <td>2023-12-31</td>\n",
       "      <td>0.314599</td>\n",
       "    </tr>\n",
       "    <tr>\n",
       "      <th>2</th>\n",
       "      <td>2024-12-31</td>\n",
       "      <td>0.336376</td>\n",
       "    </tr>\n",
       "  </tbody>\n",
       "</table>\n",
       "</div>"
      ],
      "text/plain": [
       "        date  benchmark_return\n",
       "0 2022-12-31          0.202754\n",
       "1 2023-12-31          0.314599\n",
       "2 2024-12-31          0.336376"
      ]
     },
     "execution_count": 10,
     "metadata": {},
     "output_type": "execute_result"
    }
   ],
   "source": [
    "benchmark_df"
   ]
  },
  {
   "cell_type": "code",
   "execution_count": 8,
   "metadata": {},
   "outputs": [
    {
     "data": {
      "text/plain": [
       "(        date  long_return  short_return  long_count  short_count  net_return  \\\n",
       " 0 2023-12-31     0.147765     -0.179943           5            5    0.327708   \n",
       " 1 2024-12-31     0.281232     -0.103217           3            3    0.384448   \n",
       " \n",
       "    benchmark_return  excess_return  \n",
       " 0          0.314599       0.013109  \n",
       " 1          0.336376       0.048072  ,\n",
       " {'Annual Return': np.float64(0.3557813755487953),\n",
       "  'Information Ratio': np.float64(1.2373381633979492),\n",
       "  'Max Drawdown': np.float64(0.0),\n",
       "  'Alpha': np.float64(-0.4919887931402593),\n",
       "  'Beta': np.float64(2.6055282497478376),\n",
       "  'Correlation': np.float64(1.0),\n",
       "  'R²': np.float64(1.0)},\n",
       "         date  long_return  short_return  long_count  short_count  net_return  \\\n",
       " 1 2024-12-31     0.281232     -0.103217           3            3    0.384448   \n",
       " 0 2023-12-31     0.147765     -0.179943           5            5    0.327708   \n",
       " \n",
       "    benchmark_return  excess_return  \n",
       " 1          0.336376       0.048072  \n",
       " 0          0.314599       0.013109  ,\n",
       "         date  long_return  short_return  long_count  short_count  net_return  \\\n",
       " 0 2023-12-31     0.147765     -0.179943           5            5    0.327708   \n",
       " 1 2024-12-31     0.281232     -0.103217           3            3    0.384448   \n",
       " \n",
       "    benchmark_return  excess_return  \n",
       " 0          0.314599       0.013109  \n",
       " 1          0.336376       0.048072  )"
      ]
     },
     "execution_count": 8,
     "metadata": {},
     "output_type": "execute_result"
    }
   ],
   "source": [
    "evaluate_long_short_results(perf_df, benchmark_df)"
   ]
  }
 ],
 "metadata": {
  "kernelspec": {
   "display_name": "Python 3",
   "language": "python",
   "name": "python3"
  },
  "language_info": {
   "codemirror_mode": {
    "name": "ipython",
    "version": 3
   },
   "file_extension": ".py",
   "mimetype": "text/x-python",
   "name": "python",
   "nbconvert_exporter": "python",
   "pygments_lexer": "ipython3",
   "version": "3.13.3"
  }
 },
 "nbformat": 4,
 "nbformat_minor": 2
}
